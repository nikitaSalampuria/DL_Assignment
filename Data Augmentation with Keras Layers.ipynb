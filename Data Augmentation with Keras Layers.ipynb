{
 "cells": [
  {
   "cell_type": "markdown",
   "id": "0acc06d4",
   "metadata": {},
   "source": [
    "## Dataset Import and Preprocessing"
   ]
  },
  {
   "cell_type": "code",
   "execution_count": 3,
   "id": "5fc4c795",
   "metadata": {},
   "outputs": [],
   "source": [
    "import pickle\n",
    "import tensorflow as tf\n",
    "from PreProcessing import pickle_To_Image, setGrayAndNormalise\n",
    "from tensorflow.keras.utils import to_categorical\n",
    "import numpy as np\n",
    "from tensorflow.keras.optimizers import Adam\n",
    "\n",
    "\n",
    "from keras.models import Sequential\n",
    "from keras.layers import Conv2D, MaxPool2D, Dense, Flatten, Dropout\n",
    "from tensorflow.keras.layers import RandomFlip, RandomRotation"
   ]
  },
  {
   "cell_type": "code",
   "execution_count": 4,
   "id": "535e6a35",
   "metadata": {},
   "outputs": [
    {
     "name": "stdout",
     "output_type": "stream",
     "text": [
      "dataset has been imported :)\n",
      "dataset has been imported :)\n",
      "dataset has been imported :)\n",
      "dataset has been imported :)\n"
     ]
    }
   ],
   "source": [
    "# Import Train and Validation Sets\n",
    "train_x = pickle_To_Image('./Pickled Files/train_split_x.pkl')\n",
    "train_y = pickle_To_Image('./Pickled Files/train_split_y.pkl')\n",
    "val_x = pickle_To_Image('./Pickled Files/val_split_x.pkl')\n",
    "val_y = pickle_To_Image('./Pickled Files/val_split_y.pkl')"
   ]
  },
  {
   "cell_type": "code",
   "execution_count": 5,
   "id": "c59f2c7f",
   "metadata": {},
   "outputs": [],
   "source": [
    "# Preprocess Images\n",
    "train_x_processed_rgb2gray = np.array([setGrayAndNormalise(img) for img in train_x])\n",
    "val_x_processed_rgb2gray = np.array([setGrayAndNormalise(img) for img in val_x])"
   ]
  },
  {
   "cell_type": "code",
   "execution_count": 6,
   "id": "c360ec69",
   "metadata": {},
   "outputs": [],
   "source": [
    "# one hot encode train and validation labels\n",
    "y_train = to_categorical(train_y, 43)\n",
    "y_val = to_categorical(val_y, 43)"
   ]
  },
  {
   "cell_type": "code",
   "execution_count": 7,
   "id": "60194481",
   "metadata": {},
   "outputs": [
    {
     "data": {
      "text/plain": [
       "(2580, 32, 32, 1)"
      ]
     },
     "execution_count": 7,
     "metadata": {},
     "output_type": "execute_result"
    }
   ],
   "source": [
    "# reshape processed train_x and val_x to match the input shape of the model\n",
    "train_x_processed_rgb2gray= np.reshape(train_x_processed_rgb2gray, (\n",
    "train_x_processed_rgb2gray.shape[0], train_x_processed_rgb2gray.shape[1], train_x_processed_rgb2gray.shape[2],1))\n",
    "\n",
    "val_x_processed_rgb2gray = np.reshape(val_x_processed_rgb2gray, (\n",
    "val_x_processed_rgb2gray.shape[0], val_x_processed_rgb2gray.shape[1], val_x_processed_rgb2gray.shape[2],1))\n",
    "\n",
    "\n",
    "train_x_processed_rgb2gray.shape\n",
    "val_x_processed_rgb2gray.shape"
   ]
  },
  {
   "cell_type": "markdown",
   "id": "4aecd876",
   "metadata": {},
   "source": [
    "## Create Model With Keras Preprocessing Layers"
   ]
  },
  {
   "cell_type": "code",
   "execution_count": 11,
   "id": "5cc0b24e",
   "metadata": {},
   "outputs": [
    {
     "name": "stdout",
     "output_type": "stream",
     "text": [
      "Model: \"sequential_2\"\n",
      "_________________________________________________________________\n",
      "Layer (type)                 Output Shape              Param #   \n",
      "=================================================================\n",
      "conv2d_6 (Conv2D)            (None, 28, 28, 16)        416       \n",
      "_________________________________________________________________\n",
      "max_pooling2d_6 (MaxPooling2 (None, 14, 14, 16)        0         \n",
      "_________________________________________________________________\n",
      "dropout_6 (Dropout)          (None, 14, 14, 16)        0         \n",
      "_________________________________________________________________\n",
      "conv2d_7 (Conv2D)            (None, 12, 12, 32)        4640      \n",
      "_________________________________________________________________\n",
      "max_pooling2d_7 (MaxPooling2 (None, 6, 6, 32)          0         \n",
      "_________________________________________________________________\n",
      "dropout_7 (Dropout)          (None, 6, 6, 32)          0         \n",
      "_________________________________________________________________\n",
      "conv2d_8 (Conv2D)            (None, 4, 4, 64)          18496     \n",
      "_________________________________________________________________\n",
      "max_pooling2d_8 (MaxPooling2 (None, 2, 2, 64)          0         \n",
      "_________________________________________________________________\n",
      "dropout_8 (Dropout)          (None, 2, 2, 64)          0         \n",
      "_________________________________________________________________\n",
      "flatten_2 (Flatten)          (None, 256)               0         \n",
      "_________________________________________________________________\n",
      "dense_2 (Dense)              (None, 43)                11051     \n",
      "=================================================================\n",
      "Total params: 34,603\n",
      "Trainable params: 34,603\n",
      "Non-trainable params: 0\n",
      "_________________________________________________________________\n"
     ]
    }
   ],
   "source": [
    "# define function for custom model\n",
    "    \n",
    "# Create a model template from greyscale images and 43 classes\n",
    "model= Sequential()\n",
    "\n",
    "RandomRotation(0.2),\n",
    "RandomFlip(\"horizontal\"),\n",
    "\n",
    "model.add(Conv2D(filters=16, kernel_size=(5,5), activation='relu',input_shape=(32,32,1)))\n",
    "model.add(MaxPool2D(pool_size=(2,2)))\n",
    "model.add(Dropout(rate=0.3))\n",
    "\n",
    "model.add(Conv2D(filters=32, kernel_size=(3,3), activation='relu',input_shape=(32,32,1)))\n",
    "model.add(MaxPool2D(pool_size=(2,2)))\n",
    "model.add(Dropout(rate=0.3))\n",
    "\n",
    "model.add(Conv2D(filters=64, kernel_size=(3,3), activation='relu',input_shape=(32,32,1)))\n",
    "model.add(MaxPool2D(pool_size=(2,2)))\n",
    "model.add(Dropout(rate=0.3))\n",
    "\n",
    "\n",
    "model.add(Flatten())\n",
    "model.add(Dense(43, activation='softmax'))\n",
    "\n",
    "# Compile model using the arguments\n",
    "model.compile(loss='categorical_crossentropy',optimizer=Adam(learning_rate=0.001),  metrics=['accuracy'])\n",
    "\n",
    "model.summary()"
   ]
  },
  {
   "cell_type": "code",
   "execution_count": 12,
   "id": "dd1d3ed2",
   "metadata": {},
   "outputs": [
    {
     "name": "stdout",
     "output_type": "stream",
     "text": [
      "Epoch 1/10\n",
      "1145/1145 [==============================] - 11s 9ms/step - loss: 1.8001 - accuracy: 0.4943 - val_loss: 0.8542 - val_accuracy: 0.7512\n",
      "Epoch 2/10\n",
      "1145/1145 [==============================] - 10s 9ms/step - loss: 0.5716 - accuracy: 0.8211 - val_loss: 0.5976 - val_accuracy: 0.8329\n",
      "Epoch 3/10\n",
      "1145/1145 [==============================] - 10s 9ms/step - loss: 0.3853 - accuracy: 0.8785 - val_loss: 0.4631 - val_accuracy: 0.8787\n",
      "Epoch 4/10\n",
      "1145/1145 [==============================] - 10s 9ms/step - loss: 0.3043 - accuracy: 0.9014 - val_loss: 0.3776 - val_accuracy: 0.9039\n",
      "Epoch 5/10\n",
      "1145/1145 [==============================] - 10s 9ms/step - loss: 0.2650 - accuracy: 0.9150 - val_loss: 0.3169 - val_accuracy: 0.9070\n",
      "Epoch 6/10\n",
      "1145/1145 [==============================] - 10s 9ms/step - loss: 0.2319 - accuracy: 0.9260 - val_loss: 0.3686 - val_accuracy: 0.9043\n",
      "Epoch 7/10\n",
      "1145/1145 [==============================] - 10s 9ms/step - loss: 0.2121 - accuracy: 0.9326 - val_loss: 0.3324 - val_accuracy: 0.9155\n",
      "Epoch 8/10\n",
      "1145/1145 [==============================] - 10s 9ms/step - loss: 0.1954 - accuracy: 0.9367 - val_loss: 0.3037 - val_accuracy: 0.9264\n",
      "Epoch 9/10\n",
      "1145/1145 [==============================] - 10s 9ms/step - loss: 0.1836 - accuracy: 0.9406 - val_loss: 0.2596 - val_accuracy: 0.9209\n",
      "Epoch 10/10\n",
      "1145/1145 [==============================] - 10s 9ms/step - loss: 0.1743 - accuracy: 0.9426 - val_loss: 0.2817 - val_accuracy: 0.9171\n"
     ]
    }
   ],
   "source": [
    "# Declare training parameters\n",
    "epochs = 10\n",
    "batch_size =32\n",
    "\n",
    "# Train Model\n",
    "history = model.fit(train_x_processed_rgb2gray, y_train, batch_size= batch_size, epochs=epochs,\n",
    "                   validation_data= (val_x_processed_rgb2gray, y_val))"
   ]
  },
  {
   "cell_type": "code",
   "execution_count": 14,
   "id": "6665e5d9",
   "metadata": {},
   "outputs": [
    {
     "data": {
      "text/plain": [
       "<matplotlib.legend.Legend at 0x280f9797860>"
      ]
     },
     "execution_count": 14,
     "metadata": {},
     "output_type": "execute_result"
    },
    {
     "data": {
      "image/png": "[encoded data removed]",
      "text/plain": [
       "<Figure size 432x288 with 1 Axes>"
      ]
     },
     "metadata": {
      "needs_background": "light"
     },
     "output_type": "display_data"
    },
    {
     "data": {
      "image/png": "[encoded data removed]",
      "text/plain": [
       "<Figure size 432x288 with 1 Axes>"
      ]
     },
     "metadata": {
      "needs_background": "light"
     },
     "output_type": "display_data"
    }
   ],
   "source": [
    "# Display Accuracy and Loss values of Training and Validation data\n",
    "\n",
    "import matplotlib.pyplot as plt\n",
    "\n",
    "plt.figure(0)\n",
    "plt.plot(history.history['accuracy'], label='training accuracy')\n",
    "plt.plot(history.history['val_accuracy'], label='val accuracy')\n",
    "plt.title('Accuracy')\n",
    "plt.xlabel('epochs')\n",
    "plt.ylabel('accuracy')\n",
    "plt.legend()\n",
    "\n",
    "plt.figure(1)\n",
    "plt.plot(history.history['loss'], label='training loss')\n",
    "plt.plot(history.history['val_loss'], label='val loss')\n",
    "plt.title('Loss')\n",
    "plt.xlabel('epochs')\n",
    "plt.ylabel('loss')\n",
    "plt.legend()"
   ]
  },
  {
   "cell_type": "code",
   "execution_count": 15,
   "id": "0d2606ac",
   "metadata": {},
   "outputs": [],
   "source": [
    "model.save(\"CNN_version4_data_aug.h5\")"
   ]
  },
  {
   "cell_type": "code",
   "execution_count": null,
   "id": "83ed1e1a",
   "metadata": {},
   "outputs": [],
   "source": []
  }
 ],
 "metadata": {
  "kernelspec": {
   "display_name": "Python 3",
   "language": "python",
   "name": "python3"
  },
  "language_info": {
   "codemirror_mode": {
    "name": "ipython",
    "version": 3
   },
   "file_extension": ".py",
   "mimetype": "text/x-python",
   "name": "python",
   "nbconvert_exporter": "python",
   "pygments_lexer": "ipython3",
   "version": "3.6.13"
  }
 },
 "nbformat": 4,
 "nbformat_minor": 5
}
